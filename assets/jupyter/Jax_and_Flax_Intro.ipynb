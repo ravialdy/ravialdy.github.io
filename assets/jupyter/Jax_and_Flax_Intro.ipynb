{
  "nbformat": 4,
  "nbformat_minor": 0,
  "metadata": {
    "colab": {
      "provenance": []
    },
    "kernelspec": {
      "name": "python3",
      "display_name": "Python 3"
    },
    "language_info": {
      "name": "python"
    },
    "accelerator": "TPU"
  },
  "cells": [
    {
      "cell_type": "code",
      "source": [
        "import jax.tools.colab_tpu\n",
        "jax.tools.colab_tpu.setup_tpu()\n",
        "print(jax.__version__)"
      ],
      "metadata": {
        "colab": {
          "base_uri": "https://localhost:8080/"
        },
        "id": "FPYKlQOPYmYS",
        "outputId": "86c6d99e-27c2-4ada-fd58-04143bf1839b"
      },
      "execution_count": 1,
      "outputs": [
        {
          "output_type": "stream",
          "name": "stdout",
          "text": [
            "0.3.25\n"
          ]
        }
      ]
    },
    {
      "cell_type": "code",
      "execution_count": 2,
      "metadata": {
        "id": "ESZ9Lurq_TTl"
      },
      "outputs": [],
      "source": [
        "import jax\n",
        "import flax\n",
        "import jax.numpy as jnp\n",
        "from flax import linen as nn\n",
        "from jax import random\n",
        "from tensorflow.keras import datasets"
      ]
    },
    {
      "cell_type": "code",
      "source": [
        "(train_images, train_labels), (test_images, test_labels) = datasets.mnist.load_data()\n",
        "\n",
        "# Normalize and reshape the data using JAX's NumPy\n",
        "train_images = jnp.expand_dims(train_images / 255.0, axis=-1).astype(jnp.float32)\n",
        "test_images = jnp.expand_dims(test_images / 255.0, axis=-1).astype(jnp.float32)"
      ],
      "metadata": {
        "colab": {
          "base_uri": "https://localhost:8080/"
        },
        "id": "YrAC-SKY_ZXQ",
        "outputId": "a558db58-6088-408a-97ae-5f1f31485892"
      },
      "execution_count": 3,
      "outputs": [
        {
          "output_type": "stream",
          "name": "stdout",
          "text": [
            "Downloading data from https://storage.googleapis.com/tensorflow/tf-keras-datasets/mnist.npz\n",
            "11490434/11490434 [==============================] - 1s 0us/step\n"
          ]
        }
      ]
    },
    {
      "cell_type": "code",
      "source": [
        "# Define the CNN model using Flax\n",
        "class CNN(nn.Module):\n",
        "    \"\"\"\n",
        "    A simple CNN model for MNIST classification.\n",
        "    \"\"\"\n",
        "    @nn.compact\n",
        "    def __call__(self, x: jnp.ndarray) -> jnp.ndarray:\n",
        "        x = nn.Conv(features=32, kernel_size=(3, 3))(x)\n",
        "        x = nn.relu(x)\n",
        "        x = nn.avg_pool(x, window_shape=(2, 2), strides=(2, 2))\n",
        "        x = nn.Conv(features=64, kernel_size=(3, 3))(x)\n",
        "        x = nn.relu(x)\n",
        "        x = nn.avg_pool(x, window_shape=(2, 2), strides=(2, 2))\n",
        "        x = x.reshape((x.shape[0], -1))\n",
        "        x = nn.Dense(features=256)(x)\n",
        "        x = nn.relu(x)\n",
        "        x = nn.Dense(features=10)(x)\n",
        "        return nn.log_softmax(x)"
      ],
      "metadata": {
        "id": "3dsM2E9v_iHL"
      },
      "execution_count": 4,
      "outputs": []
    },
    {
      "cell_type": "code",
      "source": [
        "key = random.PRNGKey(0)\n",
        "model = CNN()\n",
        "x = jnp.ones((1, 28, 28, 1), jnp.float32)\n",
        "params = model.init(key, x)"
      ],
      "metadata": {
        "id": "a4eQH2-N_mBC"
      },
      "execution_count": 5,
      "outputs": []
    },
    {
      "cell_type": "code",
      "source": [
        "# Initialize the optimizer\n",
        "import optax\n",
        "optimizer = optax.adam(0.001)\n",
        "opt_state = optimizer.init(params)"
      ],
      "metadata": {
        "id": "0Gy8S_EhDeem"
      },
      "execution_count": 6,
      "outputs": []
    },
    {
      "cell_type": "code",
      "source": [
        "from jax import grad, jit, value_and_grad\n",
        "from jax.scipy.special import logsumexp\n",
        "\n",
        "def loss_fn(params: dict, images: jnp.ndarray, labels: jnp.ndarray) -> float:\n",
        "    \"\"\"\n",
        "    Computes the loss between the predicted labels and true labels.\n",
        "    \"\"\"\n",
        "    logits = CNN().apply(params, images)\n",
        "    logprobs = logits - logsumexp(logits, axis=-1, keepdims=True)\n",
        "    return -jnp.mean(jnp.sum(logprobs * labels, axis=-1))\n",
        "\n",
        "@jit\n",
        "def train_step(opt_state: optax.OptState, params: dict, images: jnp.ndarray, labels: jnp.ndarray) -> tuple:\n",
        "    \"\"\"\n",
        "    Performs a single training step.\n",
        "    \"\"\"\n",
        "    loss, grads = value_and_grad(loss_fn)(params, images, labels)\n",
        "    updates, new_opt_state = optimizer.update(grads, opt_state)\n",
        "    new_params = optax.apply_updates(params, updates)\n",
        "    return new_opt_state, new_params, loss"
      ],
      "metadata": {
        "id": "S96PTK0kAocW"
      },
      "execution_count": 7,
      "outputs": []
    },
    {
      "cell_type": "code",
      "source": [
        "# Pre-compile functions\n",
        "# Use a small subset of data to trigger JIT compilation\n",
        "sample_images = jnp.ones((1, 28, 28, 1), jnp.float32)\n",
        "sample_labels = jnp.zeros((1, 10), jnp.float32)\n",
        "jit_loss_fn = jit(loss_fn)\n",
        "jit_train_step = jit(train_step)\n",
        "\n",
        "# Trigger JIT compilation\n",
        "_ = jit_loss_fn(params, sample_images, sample_labels)\n",
        "_ = jit_train_step(opt_state, params, sample_images, sample_labels)"
      ],
      "metadata": {
        "id": "MXmmhnjIYCbO"
      },
      "execution_count": 8,
      "outputs": []
    },
    {
      "cell_type": "code",
      "source": [
        "from sklearn.model_selection import train_test_split\n",
        "\n",
        "# Split the training data into training and validation sets\n",
        "train_images, val_images, train_labels, val_labels = train_test_split(train_images, train_labels, test_size=0.2, random_state=42)\n",
        "\n",
        "# One-hot encode labels\n",
        "train_labels_onehot = jax.nn.one_hot(train_labels, 10)\n",
        "val_labels_onehot = jax.nn.one_hot(val_labels, 10)"
      ],
      "metadata": {
        "id": "nI9OxOOKCszv"
      },
      "execution_count": 9,
      "outputs": []
    },
    {
      "cell_type": "code",
      "source": [
        "import pickle\n",
        "import time\n",
        "\n",
        "start_time = time.time()\n",
        "\n",
        "# Initialize variables to keep track of best model and performance\n",
        "best_val_loss = float('inf')\n",
        "best_params = None\n",
        "num_epochs = 5\n",
        "batch_size = 64\n",
        "\n",
        "# Lists to keep track of loss values for plotting\n",
        "train_losses = []\n",
        "val_losses = []\n",
        "\n",
        "for epoch in range(num_epochs):\n",
        "    # Training loop\n",
        "    train_loss_epoch = []\n",
        "    for i in range(0, len(train_images), batch_size):\n",
        "        batch_images = jnp.array(train_images[i:i + batch_size])\n",
        "        batch_labels = jnp.array(train_labels_onehot[i:i + batch_size])\n",
        "        opt_state, params, loss = train_step(opt_state, params, batch_images, batch_labels)\n",
        "        train_loss_epoch.append(loss)\n",
        "\n",
        "    avg_train_loss = jnp.mean(jnp.array(train_loss_epoch))\n",
        "    train_losses.append(avg_train_loss)\n",
        "\n",
        "    # Validation loop\n",
        "    val_loss_epoch = []\n",
        "    for i in range(0, len(val_images), batch_size):\n",
        "        batch_images = jnp.array(val_images[i:i + batch_size])\n",
        "        batch_labels = jnp.array(val_labels_onehot[i:i + batch_size])\n",
        "        val_loss = loss_fn(params, batch_images, batch_labels)\n",
        "        val_loss_epoch.append(val_loss)\n",
        "\n",
        "    avg_val_loss = jnp.mean(jnp.array(val_loss_epoch))\n",
        "    val_losses.append(avg_val_loss)\n",
        "\n",
        "    print(f\"Epoch {epoch + 1}, Train Loss: {avg_train_loss}, Val Loss: {avg_val_loss}\")\n",
        "\n",
        "    # Save best model\n",
        "    if avg_val_loss < best_val_loss:\n",
        "        best_val_loss = avg_val_loss\n",
        "        best_params = params\n",
        "\n",
        "# Calculate the training time with JAX\n",
        "end_time = time.time()\n",
        "jax_training_time = end_time - start_time\n",
        "print(f\"Training time with JAX: {jax_training_time:.4f} seconds\")\n",
        "\n",
        "# Save the best model parameters to a file\n",
        "with open('best_model_params.pkl', 'wb') as f:\n",
        "    pickle.dump(best_params, f)"
      ],
      "metadata": {
        "colab": {
          "base_uri": "https://localhost:8080/"
        },
        "id": "NTzY6vAwVkua",
        "outputId": "33231179-50ad-4386-bab2-699b2bc38163"
      },
      "execution_count": 10,
      "outputs": [
        {
          "output_type": "stream",
          "name": "stdout",
          "text": [
            "Epoch 1, Train Loss: 0.16865108907222748, Val Loss: 0.06649568676948547\n",
            "Epoch 2, Train Loss: 0.050100091844797134, Val Loss: 0.043292369693517685\n",
            "Epoch 3, Train Loss: 0.033147238194942474, Val Loss: 0.038670748472213745\n",
            "Epoch 4, Train Loss: 0.02347264625132084, Val Loss: 0.042505547404289246\n",
            "Epoch 5, Train Loss: 0.01709207519888878, Val Loss: 0.03702457249164581\n",
            "Training time with JAX: 402.9136 seconds\n"
          ]
        }
      ]
    },
    {
      "cell_type": "code",
      "source": [
        "import matplotlib.pyplot as plt\n",
        "plt.figure(figsize=(10, 6))\n",
        "plt.plot(range(1, num_epochs + 1), train_losses, label='Train Loss')\n",
        "plt.plot(range(1, num_epochs + 1), val_losses, label='Validation Loss')\n",
        "plt.xlabel('Epochs')\n",
        "plt.ylabel('Loss')\n",
        "plt.legend()\n",
        "plt.show()"
      ],
      "metadata": {
        "colab": {
          "base_uri": "https://localhost:8080/",
          "height": 542
        },
        "id": "M2orshNWVoy7",
        "outputId": "893283cb-7c46-4b68-e3fe-6a6d175b0ab0"
      },
      "execution_count": 11,
      "outputs": [
        {
          "output_type": "display_data",
          "data": {
            "text/plain": [
              "<Figure size 1000x600 with 1 Axes>"
            ],
            "image/png": "[encoded data removed]"
          },
          "metadata": {}
        }
      ]
    },
    {
      "cell_type": "code",
      "source": [
        "import tensorflow as tf\n",
        "from tensorflow.keras import layers, models\n",
        "\n",
        "# Preparing data\n",
        "(train_images, train_labels), (val_images, val_labels) = datasets.mnist.load_data()\n",
        "train_images = train_images.reshape((60000, 28, 28, 1)).astype('float32') / 255\n",
        "val_images = val_images.reshape((10000, 28, 28, 1)).astype('float32') / 255\n",
        "\n",
        "train_labels = tf.keras.utils.to_categorical(train_labels, 10)\n",
        "val_labels = tf.keras.utils.to_categorical(val_labels, 10)\n",
        "\n",
        "# Creating the model\n",
        "model = models.Sequential([\n",
        "    layers.Conv2D(32, (3, 3), activation='relu', input_shape=(28, 28, 1)),\n",
        "    layers.AveragePooling2D((2, 2)),\n",
        "    layers.Conv2D(64, (3, 3), activation='relu'),\n",
        "    layers.AveragePooling2D((2, 2)),\n",
        "    layers.Flatten(),\n",
        "    layers.Dense(256, activation='relu'),\n",
        "    layers.Dense(10, activation='softmax')\n",
        "])\n",
        "\n",
        "# Compiling the model\n",
        "model.compile(optimizer='adam',\n",
        "              loss='categorical_crossentropy',\n",
        "              metrics=['accuracy'])\n",
        "\n",
        "# Measuring time for training\n",
        "start_time = time.time()\n",
        "\n",
        "# Fitting the model\n",
        "history = model.fit(\n",
        "    train_images, train_labels,\n",
        "    epochs=5,\n",
        "    batch_size=64,\n",
        "    validation_data=(val_images, val_labels)\n",
        ")\n",
        "\n",
        "end_time = time.time()\n",
        "\n",
        "non_jax_training_time = end_time - start_time\n",
        "\n",
        "print(f\"Training time without JAX: {non_jax_training_time:.4f} seconds\")"
      ],
      "metadata": {
        "colab": {
          "base_uri": "https://localhost:8080/"
        },
        "id": "loN391LyUAbm",
        "outputId": "7b4f71c1-95ab-478b-cdc1-7e0f4237ea71"
      },
      "execution_count": 12,
      "outputs": [
        {
          "output_type": "stream",
          "name": "stdout",
          "text": [
            "Epoch 1/5\n",
            "938/938 [==============================] - 120s 124ms/step - loss: 0.1787 - accuracy: 0.9480 - val_loss: 0.0603 - val_accuracy: 0.9796\n",
            "Epoch 2/5\n",
            "938/938 [==============================] - 118s 126ms/step - loss: 0.0549 - accuracy: 0.9836 - val_loss: 0.0424 - val_accuracy: 0.9858\n",
            "Epoch 3/5\n",
            "938/938 [==============================] - 115s 123ms/step - loss: 0.0377 - accuracy: 0.9880 - val_loss: 0.0344 - val_accuracy: 0.9886\n",
            "Epoch 4/5\n",
            "938/938 [==============================] - 116s 124ms/step - loss: 0.0279 - accuracy: 0.9913 - val_loss: 0.0266 - val_accuracy: 0.9915\n",
            "Epoch 5/5\n",
            "938/938 [==============================] - 114s 122ms/step - loss: 0.0215 - accuracy: 0.9931 - val_loss: 0.0293 - val_accuracy: 0.9905\n",
            "Training time without JAX: 626.2345 seconds\n"
          ]
        }
      ]
    },
    {
      "cell_type": "code",
      "source": [
        "# Labels and corresponding values\n",
        "labels = ['JAX', 'TensorFlow']\n",
        "times = [jax_training_time, non_jax_training_time]\n",
        "\n",
        "# Create the bar chart\n",
        "plt.figure(figsize=(8, 6))\n",
        "plt.barh(labels, times, color=['blue', 'green'])\n",
        "plt.xlabel('Training Time (seconds)')\n",
        "plt.title('Training Time Comparison: JAX vs TensorFlow on MNIST Dataset')\n",
        "plt.grid(axis='x')\n",
        "\n",
        "# Annotate with the exact times\n",
        "for i, time in enumerate(times):\n",
        "    plt.text(time + 1, i, f'{time:.2f} s', va='center')\n",
        "\n",
        "plt.show()"
      ],
      "metadata": {
        "colab": {
          "base_uri": "https://localhost:8080/",
          "height": 564
        },
        "id": "8iyprBvvUCpo",
        "outputId": "e5e94356-a624-4584-a843-b49f8fb096d2"
      },
      "execution_count": 13,
      "outputs": [
        {
          "output_type": "display_data",
          "data": {
            "text/plain": [
              "<Figure size 800x600 with 1 Axes>"
            ],
            "image/png": "[encoded data removed]"
          },
          "metadata": {}
        }
      ]
    }
  ]
}